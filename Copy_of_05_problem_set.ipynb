{
  "nbformat": 4,
  "nbformat_minor": 0,
  "metadata": {
    "colab": {
      "provenance": []
    },
    "kernelspec": {
      "name": "python3",
      "display_name": "Python 3"
    },
    "language_info": {
      "name": "python"
    }
  },
  "cells": [
    {
      "cell_type": "markdown",
      "source": [
        "# Student and Problem Set Info\n",
        "---\n",
        "\n",
        "\n",
        "## Title: MGSC 310: Problem Set 5\n",
        "\n",
        "Author:\n",
        "\n",
        "Ryan Jewik"
      ],
      "metadata": {
        "id": "iGTMJcjlG6-Y"
      }
    },
    {
      "cell_type": "markdown",
      "source": [
        "# Comparative Analysis of Ensemble Methods: Random Forest, XGBoost\n",
        "\n",
        "This notebook will guide you through a comparative analysis of different ensemble machine learning models using the 'Hitters' dataset from the ISLP library. We will focus on Random Forest, XGBoost to predict Major League Baseball player salaries."
      ],
      "metadata": {
        "id": "OIB2pN-hOlAI"
      }
    },
    {
      "cell_type": "markdown",
      "source": [
        "# Setup"
      ],
      "metadata": {
        "id": "LuN6N1mjJXo7"
      }
    },
    {
      "cell_type": "markdown",
      "source": [
        "Pre-req:\n",
        "- Install the `ISLP package`\n",
        "- restart your runtime\n",
        "- load the `Hitters` dataset found [here](https://islp.readthedocs.io/en/latest/datasets/Hitters.html) (data dictionary included in documentation).\n",
        "- assign the `Hitters` data to the variable `hitters`"
      ],
      "metadata": {
        "id": "iA6inV9Xl8Hy"
      }
    },
    {
      "cell_type": "code",
      "source": [
        "pip install ISLP\n"
      ],
      "metadata": {
        "id": "MCf3FJc6m60B"
      },
      "execution_count": null,
      "outputs": []
    },
    {
      "cell_type": "code",
      "source": [
        "from ISLP import load_data\n",
        "hitters = load_data('Hitters')\n",
        "hitters"
      ],
      "metadata": {
        "colab": {
          "base_uri": "https://localhost:8080/",
          "height": 443
        },
        "id": "cZfBsslsm9rx",
        "outputId": "5739017b-8fc9-4533-a909-72b44873c366"
      },
      "execution_count": 87,
      "outputs": [
        {
          "output_type": "execute_result",
          "data": {
            "text/plain": [
              "     AtBat  Hits  HmRun  Runs  RBI  Walks  Years  CAtBat  CHits  CHmRun  \\\n",
              "0      293    66      1    30   29     14      1     293     66       1   \n",
              "1      315    81      7    24   38     39     14    3449    835      69   \n",
              "2      479   130     18    66   72     76      3    1624    457      63   \n",
              "3      496   141     20    65   78     37     11    5628   1575     225   \n",
              "4      321    87     10    39   42     30      2     396    101      12   \n",
              "..     ...   ...    ...   ...  ...    ...    ...     ...    ...     ...   \n",
              "317    497   127      7    65   48     37      5    2703    806      32   \n",
              "318    492   136      5    76   50     94     12    5511   1511      39   \n",
              "319    475   126      3    61   43     52      6    1700    433       7   \n",
              "320    573   144      9    85   60     78      8    3198    857      97   \n",
              "321    631   170      9    77   44     31     11    4908   1457      30   \n",
              "\n",
              "     CRuns  CRBI  CWalks League Division  PutOuts  Assists  Errors  Salary  \\\n",
              "0       30    29      14      A        E      446       33      20     NaN   \n",
              "1      321   414     375      N        W      632       43      10   475.0   \n",
              "2      224   266     263      A        W      880       82      14   480.0   \n",
              "3      828   838     354      N        E      200       11       3   500.0   \n",
              "4       48    46      33      N        E      805       40       4    91.5   \n",
              "..     ...   ...     ...    ...      ...      ...      ...     ...     ...   \n",
              "317    379   311     138      N        E      325        9       3   700.0   \n",
              "318    897   451     875      A        E      313      381      20   875.0   \n",
              "319    217    93     146      A        W       37      113       7   385.0   \n",
              "320    470   420     332      A        E     1314      131      12   960.0   \n",
              "321    775   357     249      A        W      408        4       3  1000.0   \n",
              "\n",
              "    NewLeague  \n",
              "0           A  \n",
              "1           N  \n",
              "2           A  \n",
              "3           N  \n",
              "4           N  \n",
              "..        ...  \n",
              "317         N  \n",
              "318         A  \n",
              "319         A  \n",
              "320         A  \n",
              "321         A  \n",
              "\n",
              "[322 rows x 20 columns]"
            ],
            "text/html": [
              "\n",
              "  <div id=\"df-e091c7f5-7297-4f2d-bc3a-f29b57601617\" class=\"colab-df-container\">\n",
              "    <div>\n",
              "<style scoped>\n",
              "    .dataframe tbody tr th:only-of-type {\n",
              "        vertical-align: middle;\n",
              "    }\n",
              "\n",
              "    .dataframe tbody tr th {\n",
              "        vertical-align: top;\n",
              "    }\n",
              "\n",
              "    .dataframe thead th {\n",
              "        text-align: right;\n",
              "    }\n",
              "</style>\n",
              "<table border=\"1\" class=\"dataframe\">\n",
              "  <thead>\n",
              "    <tr style=\"text-align: right;\">\n",
              "      <th></th>\n",
              "      <th>AtBat</th>\n",
              "      <th>Hits</th>\n",
              "      <th>HmRun</th>\n",
              "      <th>Runs</th>\n",
              "      <th>RBI</th>\n",
              "      <th>Walks</th>\n",
              "      <th>Years</th>\n",
              "      <th>CAtBat</th>\n",
              "      <th>CHits</th>\n",
              "      <th>CHmRun</th>\n",
              "      <th>CRuns</th>\n",
              "      <th>CRBI</th>\n",
              "      <th>CWalks</th>\n",
              "      <th>League</th>\n",
              "      <th>Division</th>\n",
              "      <th>PutOuts</th>\n",
              "      <th>Assists</th>\n",
              "      <th>Errors</th>\n",
              "      <th>Salary</th>\n",
              "      <th>NewLeague</th>\n",
              "    </tr>\n",
              "  </thead>\n",
              "  <tbody>\n",
              "    <tr>\n",
              "      <th>0</th>\n",
              "      <td>293</td>\n",
              "      <td>66</td>\n",
              "      <td>1</td>\n",
              "      <td>30</td>\n",
              "      <td>29</td>\n",
              "      <td>14</td>\n",
              "      <td>1</td>\n",
              "      <td>293</td>\n",
              "      <td>66</td>\n",
              "      <td>1</td>\n",
              "      <td>30</td>\n",
              "      <td>29</td>\n",
              "      <td>14</td>\n",
              "      <td>A</td>\n",
              "      <td>E</td>\n",
              "      <td>446</td>\n",
              "      <td>33</td>\n",
              "      <td>20</td>\n",
              "      <td>NaN</td>\n",
              "      <td>A</td>\n",
              "    </tr>\n",
              "    <tr>\n",
              "      <th>1</th>\n",
              "      <td>315</td>\n",
              "      <td>81</td>\n",
              "      <td>7</td>\n",
              "      <td>24</td>\n",
              "      <td>38</td>\n",
              "      <td>39</td>\n",
              "      <td>14</td>\n",
              "      <td>3449</td>\n",
              "      <td>835</td>\n",
              "      <td>69</td>\n",
              "      <td>321</td>\n",
              "      <td>414</td>\n",
              "      <td>375</td>\n",
              "      <td>N</td>\n",
              "      <td>W</td>\n",
              "      <td>632</td>\n",
              "      <td>43</td>\n",
              "      <td>10</td>\n",
              "      <td>475.0</td>\n",
              "      <td>N</td>\n",
              "    </tr>\n",
              "    <tr>\n",
              "      <th>2</th>\n",
              "      <td>479</td>\n",
              "      <td>130</td>\n",
              "      <td>18</td>\n",
              "      <td>66</td>\n",
              "      <td>72</td>\n",
              "      <td>76</td>\n",
              "      <td>3</td>\n",
              "      <td>1624</td>\n",
              "      <td>457</td>\n",
              "      <td>63</td>\n",
              "      <td>224</td>\n",
              "      <td>266</td>\n",
              "      <td>263</td>\n",
              "      <td>A</td>\n",
              "      <td>W</td>\n",
              "      <td>880</td>\n",
              "      <td>82</td>\n",
              "      <td>14</td>\n",
              "      <td>480.0</td>\n",
              "      <td>A</td>\n",
              "    </tr>\n",
              "    <tr>\n",
              "      <th>3</th>\n",
              "      <td>496</td>\n",
              "      <td>141</td>\n",
              "      <td>20</td>\n",
              "      <td>65</td>\n",
              "      <td>78</td>\n",
              "      <td>37</td>\n",
              "      <td>11</td>\n",
              "      <td>5628</td>\n",
              "      <td>1575</td>\n",
              "      <td>225</td>\n",
              "      <td>828</td>\n",
              "      <td>838</td>\n",
              "      <td>354</td>\n",
              "      <td>N</td>\n",
              "      <td>E</td>\n",
              "      <td>200</td>\n",
              "      <td>11</td>\n",
              "      <td>3</td>\n",
              "      <td>500.0</td>\n",
              "      <td>N</td>\n",
              "    </tr>\n",
              "    <tr>\n",
              "      <th>4</th>\n",
              "      <td>321</td>\n",
              "      <td>87</td>\n",
              "      <td>10</td>\n",
              "      <td>39</td>\n",
              "      <td>42</td>\n",
              "      <td>30</td>\n",
              "      <td>2</td>\n",
              "      <td>396</td>\n",
              "      <td>101</td>\n",
              "      <td>12</td>\n",
              "      <td>48</td>\n",
              "      <td>46</td>\n",
              "      <td>33</td>\n",
              "      <td>N</td>\n",
              "      <td>E</td>\n",
              "      <td>805</td>\n",
              "      <td>40</td>\n",
              "      <td>4</td>\n",
              "      <td>91.5</td>\n",
              "      <td>N</td>\n",
              "    </tr>\n",
              "    <tr>\n",
              "      <th>...</th>\n",
              "      <td>...</td>\n",
              "      <td>...</td>\n",
              "      <td>...</td>\n",
              "      <td>...</td>\n",
              "      <td>...</td>\n",
              "      <td>...</td>\n",
              "      <td>...</td>\n",
              "      <td>...</td>\n",
              "      <td>...</td>\n",
              "      <td>...</td>\n",
              "      <td>...</td>\n",
              "      <td>...</td>\n",
              "      <td>...</td>\n",
              "      <td>...</td>\n",
              "      <td>...</td>\n",
              "      <td>...</td>\n",
              "      <td>...</td>\n",
              "      <td>...</td>\n",
              "      <td>...</td>\n",
              "      <td>...</td>\n",
              "    </tr>\n",
              "    <tr>\n",
              "      <th>317</th>\n",
              "      <td>497</td>\n",
              "      <td>127</td>\n",
              "      <td>7</td>\n",
              "      <td>65</td>\n",
              "      <td>48</td>\n",
              "      <td>37</td>\n",
              "      <td>5</td>\n",
              "      <td>2703</td>\n",
              "      <td>806</td>\n",
              "      <td>32</td>\n",
              "      <td>379</td>\n",
              "      <td>311</td>\n",
              "      <td>138</td>\n",
              "      <td>N</td>\n",
              "      <td>E</td>\n",
              "      <td>325</td>\n",
              "      <td>9</td>\n",
              "      <td>3</td>\n",
              "      <td>700.0</td>\n",
              "      <td>N</td>\n",
              "    </tr>\n",
              "    <tr>\n",
              "      <th>318</th>\n",
              "      <td>492</td>\n",
              "      <td>136</td>\n",
              "      <td>5</td>\n",
              "      <td>76</td>\n",
              "      <td>50</td>\n",
              "      <td>94</td>\n",
              "      <td>12</td>\n",
              "      <td>5511</td>\n",
              "      <td>1511</td>\n",
              "      <td>39</td>\n",
              "      <td>897</td>\n",
              "      <td>451</td>\n",
              "      <td>875</td>\n",
              "      <td>A</td>\n",
              "      <td>E</td>\n",
              "      <td>313</td>\n",
              "      <td>381</td>\n",
              "      <td>20</td>\n",
              "      <td>875.0</td>\n",
              "      <td>A</td>\n",
              "    </tr>\n",
              "    <tr>\n",
              "      <th>319</th>\n",
              "      <td>475</td>\n",
              "      <td>126</td>\n",
              "      <td>3</td>\n",
              "      <td>61</td>\n",
              "      <td>43</td>\n",
              "      <td>52</td>\n",
              "      <td>6</td>\n",
              "      <td>1700</td>\n",
              "      <td>433</td>\n",
              "      <td>7</td>\n",
              "      <td>217</td>\n",
              "      <td>93</td>\n",
              "      <td>146</td>\n",
              "      <td>A</td>\n",
              "      <td>W</td>\n",
              "      <td>37</td>\n",
              "      <td>113</td>\n",
              "      <td>7</td>\n",
              "      <td>385.0</td>\n",
              "      <td>A</td>\n",
              "    </tr>\n",
              "    <tr>\n",
              "      <th>320</th>\n",
              "      <td>573</td>\n",
              "      <td>144</td>\n",
              "      <td>9</td>\n",
              "      <td>85</td>\n",
              "      <td>60</td>\n",
              "      <td>78</td>\n",
              "      <td>8</td>\n",
              "      <td>3198</td>\n",
              "      <td>857</td>\n",
              "      <td>97</td>\n",
              "      <td>470</td>\n",
              "      <td>420</td>\n",
              "      <td>332</td>\n",
              "      <td>A</td>\n",
              "      <td>E</td>\n",
              "      <td>1314</td>\n",
              "      <td>131</td>\n",
              "      <td>12</td>\n",
              "      <td>960.0</td>\n",
              "      <td>A</td>\n",
              "    </tr>\n",
              "    <tr>\n",
              "      <th>321</th>\n",
              "      <td>631</td>\n",
              "      <td>170</td>\n",
              "      <td>9</td>\n",
              "      <td>77</td>\n",
              "      <td>44</td>\n",
              "      <td>31</td>\n",
              "      <td>11</td>\n",
              "      <td>4908</td>\n",
              "      <td>1457</td>\n",
              "      <td>30</td>\n",
              "      <td>775</td>\n",
              "      <td>357</td>\n",
              "      <td>249</td>\n",
              "      <td>A</td>\n",
              "      <td>W</td>\n",
              "      <td>408</td>\n",
              "      <td>4</td>\n",
              "      <td>3</td>\n",
              "      <td>1000.0</td>\n",
              "      <td>A</td>\n",
              "    </tr>\n",
              "  </tbody>\n",
              "</table>\n",
              "<p>322 rows × 20 columns</p>\n",
              "</div>\n",
              "    <div class=\"colab-df-buttons\">\n",
              "\n",
              "  <div class=\"colab-df-container\">\n",
              "    <button class=\"colab-df-convert\" onclick=\"convertToInteractive('df-e091c7f5-7297-4f2d-bc3a-f29b57601617')\"\n",
              "            title=\"Convert this dataframe to an interactive table.\"\n",
              "            style=\"display:none;\">\n",
              "\n",
              "  <svg xmlns=\"http://www.w3.org/2000/svg\" height=\"24px\" viewBox=\"0 -960 960 960\">\n",
              "    <path d=\"M120-120v-720h720v720H120Zm60-500h600v-160H180v160Zm220 220h160v-160H400v160Zm0 220h160v-160H400v160ZM180-400h160v-160H180v160Zm440 0h160v-160H620v160ZM180-180h160v-160H180v160Zm440 0h160v-160H620v160Z\"/>\n",
              "  </svg>\n",
              "    </button>\n",
              "\n",
              "  <style>\n",
              "    .colab-df-container {\n",
              "      display:flex;\n",
              "      gap: 12px;\n",
              "    }\n",
              "\n",
              "    .colab-df-convert {\n",
              "      background-color: #E8F0FE;\n",
              "      border: none;\n",
              "      border-radius: 50%;\n",
              "      cursor: pointer;\n",
              "      display: none;\n",
              "      fill: #1967D2;\n",
              "      height: 32px;\n",
              "      padding: 0 0 0 0;\n",
              "      width: 32px;\n",
              "    }\n",
              "\n",
              "    .colab-df-convert:hover {\n",
              "      background-color: #E2EBFA;\n",
              "      box-shadow: 0px 1px 2px rgba(60, 64, 67, 0.3), 0px 1px 3px 1px rgba(60, 64, 67, 0.15);\n",
              "      fill: #174EA6;\n",
              "    }\n",
              "\n",
              "    .colab-df-buttons div {\n",
              "      margin-bottom: 4px;\n",
              "    }\n",
              "\n",
              "    [theme=dark] .colab-df-convert {\n",
              "      background-color: #3B4455;\n",
              "      fill: #D2E3FC;\n",
              "    }\n",
              "\n",
              "    [theme=dark] .colab-df-convert:hover {\n",
              "      background-color: #434B5C;\n",
              "      box-shadow: 0px 1px 3px 1px rgba(0, 0, 0, 0.15);\n",
              "      filter: drop-shadow(0px 1px 2px rgba(0, 0, 0, 0.3));\n",
              "      fill: #FFFFFF;\n",
              "    }\n",
              "  </style>\n",
              "\n",
              "    <script>\n",
              "      const buttonEl =\n",
              "        document.querySelector('#df-e091c7f5-7297-4f2d-bc3a-f29b57601617 button.colab-df-convert');\n",
              "      buttonEl.style.display =\n",
              "        google.colab.kernel.accessAllowed ? 'block' : 'none';\n",
              "\n",
              "      async function convertToInteractive(key) {\n",
              "        const element = document.querySelector('#df-e091c7f5-7297-4f2d-bc3a-f29b57601617');\n",
              "        const dataTable =\n",
              "          await google.colab.kernel.invokeFunction('convertToInteractive',\n",
              "                                                    [key], {});\n",
              "        if (!dataTable) return;\n",
              "\n",
              "        const docLinkHtml = 'Like what you see? Visit the ' +\n",
              "          '<a target=\"_blank\" href=https://colab.research.google.com/notebooks/data_table.ipynb>data table notebook</a>'\n",
              "          + ' to learn more about interactive tables.';\n",
              "        element.innerHTML = '';\n",
              "        dataTable['output_type'] = 'display_data';\n",
              "        await google.colab.output.renderOutput(dataTable, element);\n",
              "        const docLink = document.createElement('div');\n",
              "        docLink.innerHTML = docLinkHtml;\n",
              "        element.appendChild(docLink);\n",
              "      }\n",
              "    </script>\n",
              "  </div>\n",
              "\n",
              "\n",
              "<div id=\"df-3d687a86-656c-4df1-9f47-798251a9199c\">\n",
              "  <button class=\"colab-df-quickchart\" onclick=\"quickchart('df-3d687a86-656c-4df1-9f47-798251a9199c')\"\n",
              "            title=\"Suggest charts\"\n",
              "            style=\"display:none;\">\n",
              "\n",
              "<svg xmlns=\"http://www.w3.org/2000/svg\" height=\"24px\"viewBox=\"0 0 24 24\"\n",
              "     width=\"24px\">\n",
              "    <g>\n",
              "        <path d=\"M19 3H5c-1.1 0-2 .9-2 2v14c0 1.1.9 2 2 2h14c1.1 0 2-.9 2-2V5c0-1.1-.9-2-2-2zM9 17H7v-7h2v7zm4 0h-2V7h2v10zm4 0h-2v-4h2v4z\"/>\n",
              "    </g>\n",
              "</svg>\n",
              "  </button>\n",
              "\n",
              "<style>\n",
              "  .colab-df-quickchart {\n",
              "      --bg-color: #E8F0FE;\n",
              "      --fill-color: #1967D2;\n",
              "      --hover-bg-color: #E2EBFA;\n",
              "      --hover-fill-color: #174EA6;\n",
              "      --disabled-fill-color: #AAA;\n",
              "      --disabled-bg-color: #DDD;\n",
              "  }\n",
              "\n",
              "  [theme=dark] .colab-df-quickchart {\n",
              "      --bg-color: #3B4455;\n",
              "      --fill-color: #D2E3FC;\n",
              "      --hover-bg-color: #434B5C;\n",
              "      --hover-fill-color: #FFFFFF;\n",
              "      --disabled-bg-color: #3B4455;\n",
              "      --disabled-fill-color: #666;\n",
              "  }\n",
              "\n",
              "  .colab-df-quickchart {\n",
              "    background-color: var(--bg-color);\n",
              "    border: none;\n",
              "    border-radius: 50%;\n",
              "    cursor: pointer;\n",
              "    display: none;\n",
              "    fill: var(--fill-color);\n",
              "    height: 32px;\n",
              "    padding: 0;\n",
              "    width: 32px;\n",
              "  }\n",
              "\n",
              "  .colab-df-quickchart:hover {\n",
              "    background-color: var(--hover-bg-color);\n",
              "    box-shadow: 0 1px 2px rgba(60, 64, 67, 0.3), 0 1px 3px 1px rgba(60, 64, 67, 0.15);\n",
              "    fill: var(--button-hover-fill-color);\n",
              "  }\n",
              "\n",
              "  .colab-df-quickchart-complete:disabled,\n",
              "  .colab-df-quickchart-complete:disabled:hover {\n",
              "    background-color: var(--disabled-bg-color);\n",
              "    fill: var(--disabled-fill-color);\n",
              "    box-shadow: none;\n",
              "  }\n",
              "\n",
              "  .colab-df-spinner {\n",
              "    border: 2px solid var(--fill-color);\n",
              "    border-color: transparent;\n",
              "    border-bottom-color: var(--fill-color);\n",
              "    animation:\n",
              "      spin 1s steps(1) infinite;\n",
              "  }\n",
              "\n",
              "  @keyframes spin {\n",
              "    0% {\n",
              "      border-color: transparent;\n",
              "      border-bottom-color: var(--fill-color);\n",
              "      border-left-color: var(--fill-color);\n",
              "    }\n",
              "    20% {\n",
              "      border-color: transparent;\n",
              "      border-left-color: var(--fill-color);\n",
              "      border-top-color: var(--fill-color);\n",
              "    }\n",
              "    30% {\n",
              "      border-color: transparent;\n",
              "      border-left-color: var(--fill-color);\n",
              "      border-top-color: var(--fill-color);\n",
              "      border-right-color: var(--fill-color);\n",
              "    }\n",
              "    40% {\n",
              "      border-color: transparent;\n",
              "      border-right-color: var(--fill-color);\n",
              "      border-top-color: var(--fill-color);\n",
              "    }\n",
              "    60% {\n",
              "      border-color: transparent;\n",
              "      border-right-color: var(--fill-color);\n",
              "    }\n",
              "    80% {\n",
              "      border-color: transparent;\n",
              "      border-right-color: var(--fill-color);\n",
              "      border-bottom-color: var(--fill-color);\n",
              "    }\n",
              "    90% {\n",
              "      border-color: transparent;\n",
              "      border-bottom-color: var(--fill-color);\n",
              "    }\n",
              "  }\n",
              "</style>\n",
              "\n",
              "  <script>\n",
              "    async function quickchart(key) {\n",
              "      const quickchartButtonEl =\n",
              "        document.querySelector('#' + key + ' button');\n",
              "      quickchartButtonEl.disabled = true;  // To prevent multiple clicks.\n",
              "      quickchartButtonEl.classList.add('colab-df-spinner');\n",
              "      try {\n",
              "        const charts = await google.colab.kernel.invokeFunction(\n",
              "            'suggestCharts', [key], {});\n",
              "      } catch (error) {\n",
              "        console.error('Error during call to suggestCharts:', error);\n",
              "      }\n",
              "      quickchartButtonEl.classList.remove('colab-df-spinner');\n",
              "      quickchartButtonEl.classList.add('colab-df-quickchart-complete');\n",
              "    }\n",
              "    (() => {\n",
              "      let quickchartButtonEl =\n",
              "        document.querySelector('#df-3d687a86-656c-4df1-9f47-798251a9199c button');\n",
              "      quickchartButtonEl.style.display =\n",
              "        google.colab.kernel.accessAllowed ? 'block' : 'none';\n",
              "    })();\n",
              "  </script>\n",
              "</div>\n",
              "    </div>\n",
              "  </div>\n"
            ]
          },
          "metadata": {},
          "execution_count": 87
        }
      ]
    },
    {
      "cell_type": "markdown",
      "source": [
        "# Question 1\n",
        "\n",
        "1. Take the `League` column and assign 'A' to 1 and 'N' to 0. Call the new column `is_amer`.\n",
        "2. Take the `Division` comlumn and assign 'W' to 1 and 'N' to 0. Call the new column `is_west`.\n",
        "3. Take the `NewLeague` comlumn and assign 'A' to 1 and 'N' to 0. Call the new column `is_new`.\n",
        "4. Find and replace `NaN` values in `Salary` with the mean of that player's respective league. If you do not know how to do this, research online. Hint: First find the mean value for the column. Then use .fillna()\n",
        "5. Assign `is_west`, `is_amer`, `is_new` to the data type int. Hint: see .astype()\n",
        "6. Assign the feature columns to the variable X. Features should be every column except `League`, `Division`, `NewLeague`,  `Salary`\n",
        "7. Assign the target_variable y to `Salary`.\n",
        "8. Explain to me the difference between where `is_amer` comes from (what it represents) versus `is_new`.\n",
        "9. Train test split the X, y data with a test size of .18 and random_state of 589 and shuffle is True."
      ],
      "metadata": {
        "id": "5dM3EgG2Qjbn"
      }
    },
    {
      "cell_type": "code",
      "source": [
        "mapping = {'A': 1, 'N':0}\n",
        "hitters['is_amer'] = hitters['League'].map(mapping)\n",
        "mapping = {'W': 1, 'E':0}\n",
        "hitters['is_west'] = hitters['Division'].map(mapping)\n",
        "mapping = {'A': 1, 'N':0}\n",
        "hitters['is_new'] = hitters['NewLeague'].map(mapping)"
      ],
      "metadata": {
        "id": "Bx62XbnMm9EZ"
      },
      "execution_count": 88,
      "outputs": []
    },
    {
      "cell_type": "code",
      "source": [
        "eastAvgSalary = hitters.groupby('Division').mean()['Salary'].iloc[0]\n",
        "westAvgSalary = hitters.groupby('Division').mean()['Salary'].iloc[1]\n",
        "hitters.loc[hitters['Division']=='E']=hitters.loc[hitters['Division']=='E'].fillna(eastAvgSalary)\n",
        "hitters.loc[hitters['Division']=='W']=hitters.loc[hitters['Division']=='W'].fillna(westAvgSalary)\n"
      ],
      "metadata": {
        "id": "cl9Et6wSolnr"
      },
      "execution_count": 89,
      "outputs": []
    },
    {
      "cell_type": "code",
      "source": [
        "hitters = hitters.astype({'is_west': 'int64'})\n",
        "hitters = hitters.astype({'is_amer': 'int64'})\n",
        "hitters = hitters.astype({'is_new': 'int64'})"
      ],
      "metadata": {
        "id": "JOGfFBDfwsZ7"
      },
      "execution_count": 90,
      "outputs": []
    },
    {
      "cell_type": "code",
      "source": [
        "X = hitters[{'AtBat','Hits','HmRun','Runs','RBI','Walks','Years','CAtBat','CHits','CHmRun','CRuns','CRBI','CWalks','PutOuts','Assists','Errors','is_amer','is_west','is_new'}]\n",
        "y = hitters['Salary']"
      ],
      "metadata": {
        "id": "8ltfCSwj8FDk"
      },
      "execution_count": 91,
      "outputs": []
    },
    {
      "cell_type": "markdown",
      "source": [
        "is_amer indicates which league the player was in before 1987 and is_new indicates what league the player was in during and after 1987."
      ],
      "metadata": {
        "id": "2tezqcFD97zu"
      }
    },
    {
      "cell_type": "code",
      "source": [
        "from sklearn.model_selection import train_test_split\n",
        "X_train, X_test, y_train, y_test = train_test_split(X, y, test_size = .18, random_state = 589, shuffle = True)"
      ],
      "metadata": {
        "id": "EAFLZVAv-pPT"
      },
      "execution_count": 92,
      "outputs": []
    },
    {
      "cell_type": "markdown",
      "source": [
        "## Question 2:\n",
        "\n",
        "1. Train a random forest regressor on X_train.\n",
        "2. Set the number of estimators to 50, the random state to 84, and the `max_depth` to 6\n",
        "3. Look into the documentation for the Random Forest Regressor [here](https://scikit-learn.org/stable/modules/generated/sklearn.ensemble.RandomForestRegressor.html). Choose 2 hyperparameters that are not at the default setting for the model and add them into the regressor.\n",
        "4. What hyperparameters did you choose and why do you think they were applicable? Defend your choice by describing what the hyperparameter and how it relates to the data.\n",
        "5. Fit your model.\n",
        "6. Predict your data to the variable `rf_predictions`\n",
        "7. Import the mean squared error function from sklearn [here](https://scikit-learn.org/stable/modules/generated/sklearn.metrics.mean_squared_error.html#sklearn.metrics.mean_squared_error). What is the error of your model? What does it mean?\n",
        "8. In a new cell, run the model again, but this time choose different values for the hyperparameters you chose. Fit, predict, and get the mean squared error of the model. Continue doing this until you get a different error from your original model. Write about why you think your choice affected the model predictions."
      ],
      "metadata": {
        "id": "msP9R1t9JibX"
      }
    },
    {
      "cell_type": "code",
      "source": [
        "from sklearn.ensemble import RandomForestRegressor\n",
        "regr = RandomForestRegressor(max_depth  =6, random_state = 84, n_estimators = 50,criterion=\"absolute_error\",min_samples_split=5)\n",
        "regr.fit(X_train,y_train)\n",
        "rf_predictions = regr.predict(X_test)\n",
        "from sklearn.metrics import mean_squared_error\n",
        "\n",
        "mean_squared_error(y_test, rf_predictions)"
      ],
      "metadata": {
        "id": "bORq7Sk9_dsT"
      },
      "execution_count": 48,
      "outputs": []
    },
    {
      "cell_type": "markdown",
      "source": [
        "I changed the criterion to 'absolute_error' from 'squarred error' because I think the prediction that is 10 off is twice as bad as a prediction that is off by a factor of 5. It is not exponentially worse, additionally the time penality is not really an issue due to the small dataset.\n",
        "\n",
        "I also changed the min_samples_split to 5 as I didn't want a bunch of splits to occur for only a couple values."
      ],
      "metadata": {
        "id": "re3HgB0bFfR5"
      }
    },
    {
      "cell_type": "code",
      "source": [],
      "metadata": {
        "colab": {
          "base_uri": "https://localhost:8080/"
        },
        "id": "PnLQRSoTR5Hq",
        "outputId": "6ba5c488-c5b6-4f86-98a0-6abd4a816ff0"
      },
      "execution_count": 49,
      "outputs": [
        {
          "output_type": "execute_result",
          "data": {
            "text/plain": [
              "49816.656898904024"
            ]
          },
          "metadata": {},
          "execution_count": 49
        }
      ]
    },
    {
      "cell_type": "code",
      "source": [
        "from sklearn.ensemble import RandomForestRegressor\n",
        "regr = RandomForestRegressor(max_depth  =6, random_state = 84, n_estimators = 50,criterion=\"friedman_mse\",min_samples_split=10)\n",
        "regr.fit(X_train,y_train)\n",
        "rf_predictions = regr.predict(X_test)\n",
        "mean_squared_error(y_test, rf_predictions)"
      ],
      "metadata": {
        "colab": {
          "base_uri": "https://localhost:8080/"
        },
        "id": "NDyZYOxCSVgN",
        "outputId": "de5ac69c-3e9e-44f4-a07d-d0baf20114d3"
      },
      "execution_count": 18,
      "outputs": [
        {
          "output_type": "execute_result",
          "data": {
            "text/plain": [
              "52640.00508494527"
            ]
          },
          "metadata": {},
          "execution_count": 18
        }
      ]
    },
    {
      "cell_type": "markdown",
      "source": [
        "# Question 3:\n",
        "\n",
        "1. Go back to class 17 [here](https://colab.research.google.com/drive/1ZWr8d90JB7OjxVLX5jfhJ3TFSIfHluPM?usp=sharing). Choose any of the interpretable AI visuals we generated and implement them on your best fitting model from above. Ensure your visual is returned in the notebook. Feel free to copy and paste the code you need.\n",
        "2. Explain what you think the visual means as it relates to predictions or features of the dataset."
      ],
      "metadata": {
        "id": "oB8iZR0fLoJ9"
      }
    },
    {
      "cell_type": "code",
      "source": [
        "! pip install shap"
      ],
      "metadata": {
        "id": "DTjVHrSJaSts"
      },
      "execution_count": null,
      "outputs": []
    },
    {
      "cell_type": "code",
      "source": [
        "import shap\n",
        "# Calculate SHAP values\n",
        "explainer = shap.TreeExplainer(regr)\n",
        "shap_values = explainer.shap_values(X_test)\n",
        "\n",
        "# Summarize the effects of all the features\n",
        "shap.summary_plot(shap_values, X_test, plot_type=\"bar\")"
      ],
      "metadata": {
        "id": "6o4yCCdHgG3h"
      },
      "execution_count": null,
      "outputs": []
    },
    {
      "cell_type": "markdown",
      "source": [
        "A SHAP value represents the contribution to a prediction that the variable makes. Therefore we can interpret that a variable like CRBI heavily contributes to the predicted salary while is_amer does not."
      ],
      "metadata": {
        "id": "w3iUrHjagiWx"
      }
    },
    {
      "cell_type": "markdown",
      "source": [
        "## Question 4\n",
        "\n",
        "Now you will perform similar predictions using XGBoost\n",
        "\n",
        "1. Train an xgboost regressor on X_train.\n",
        "2. Set the number of estimators to 50, the random state to 84, and the `max_depth` to 6\n",
        "3. Look into the documentation for the Xgboost Regressor [here](https://docs.getml.com/1.1.0/api/getml.predictors.XGBoostRegressor.html#). Choose 2 hyperparameters that are not at the default setting for the model and add them into the regressor.\n",
        "4. Fit your model.\n",
        "5. Predict your data to the variable `xgb_predictions`\n",
        "6. Import the mean squared error function from sklearn [here](https://scikit-learn.org/stable/modules/generated/sklearn.metrics.mean_squared_error.html#sklearn.metrics.mean_squared_error). What is the error of your model? What does it mean?\n",
        "7. In a new cell, run the model again, but this time choose different values for the hyperparameters you chose. Fit, predict, and get the mean squared error of the model. Continue doing this until you get a different error from your original model. Write about why you think your choice affected the model predictions.\n"
      ],
      "metadata": {
        "id": "BVu45VctmhXs"
      }
    },
    {
      "cell_type": "code",
      "source": [
        "pip install xgboost==1.0.1"
      ],
      "metadata": {
        "id": "SJ9aKBAgizAs"
      },
      "execution_count": null,
      "outputs": []
    },
    {
      "cell_type": "code",
      "source": [
        "import pandas as pd\n",
        "import numpy as np\n",
        "from sklearn.datasets import make_classification\n",
        "from sklearn.model_selection import train_test_split\n",
        "from sklearn.ensemble import RandomForestClassifier, StackingClassifier\n",
        "from sklearn.linear_model import LogisticRegression\n",
        "from sklearn.metrics import accuracy_score\n",
        "from sklearn.tree import DecisionTreeClassifier\n",
        "import xgboost as xg\n",
        "import seaborn as sns\n",
        "\n",
        "from sklearn.model_selection import RandomizedSearchCV\n",
        "from scipy.stats import randint"
      ],
      "metadata": {
        "id": "1vEpNbbChPJp"
      },
      "execution_count": 15,
      "outputs": []
    },
    {
      "cell_type": "code",
      "source": [
        "# XGBoost model\n",
        "xgb = xg.XGBRegressor(n_estimators = 50, max_depth = 6, random_state = 84, booster = 'dart', learning_rate = .2)\n",
        "\n",
        "\n",
        "xgb.fit(X_train, y_train)\n",
        "xgb_predictions = xgb.predict(X_test)\n",
        "mean_squared_error(y_test, xgb_predictions)"
      ],
      "metadata": {
        "colab": {
          "base_uri": "https://localhost:8080/"
        },
        "id": "bU1CrmZQhauY",
        "outputId": "8c0e9849-59a4-4f9f-a9b0-0e92c083d3e2"
      },
      "execution_count": 62,
      "outputs": [
        {
          "output_type": "execute_result",
          "data": {
            "text/plain": [
              "65525.48679927529"
            ]
          },
          "metadata": {},
          "execution_count": 62
        }
      ]
    },
    {
      "cell_type": "markdown",
      "source": [
        "I am using dart as my booster in order to remove any trivial trees. I will also adjust the learning rate ot 0.2 to slow the learning and reduce overfitting"
      ],
      "metadata": {
        "id": "u0RtI_q0pyNj"
      }
    },
    {
      "cell_type": "code",
      "source": [
        "# XGBoost model\n",
        "xgb = xg.XGBRegressor(n_estimators = 50, max_depth = 6, random_state = 84, booster = 'gblinear', learning_rate = .05)\n",
        "\n",
        "\n",
        "xgb.fit(X_train, y_train)\n",
        "xgb_predictions = xgb.predict(X_test)\n",
        "mean_squared_error(y_test, xgb_predictions)"
      ],
      "metadata": {
        "colab": {
          "base_uri": "https://localhost:8080/"
        },
        "id": "8erEAy89xx2N",
        "outputId": "afd595b7-c909-4f11-cc15-e39a970a3fff"
      },
      "execution_count": 98,
      "outputs": [
        {
          "output_type": "execute_result",
          "data": {
            "text/plain": [
              "55355.42131810743"
            ]
          },
          "metadata": {},
          "execution_count": 98
        }
      ]
    },
    {
      "cell_type": "markdown",
      "source": [
        "I think switching to gblinear improved the score the most because we are predicting salary, a variable that likely has a linear relationship with many of our predictors. Additionally, the more we lower our learning rate the better we can improve our score and reduce overfitting."
      ],
      "metadata": {
        "id": "Ao0P5qkMyNqD"
      }
    },
    {
      "cell_type": "markdown",
      "source": [
        "# Question 4:\n",
        "\n",
        "1. You will now go back to class 17 [here](https://colab.research.google.com/drive/1ZWr8d90JB7OjxVLX5jfhJ3TFSIfHluPM?usp=sharing) and use a *different* AI visual metric to interpret your results than you used above. Do the same thing: implement it on your best performing XGBoost model.\n",
        "2. Explain what you think the visual means as it relates to predictions or features of the dataset."
      ],
      "metadata": {
        "id": "nZ8fb12Qep2j"
      }
    },
    {
      "cell_type": "code",
      "source": [
        "pip install pdpbox"
      ],
      "metadata": {
        "id": "kTIUb4mH0QjI"
      },
      "execution_count": null,
      "outputs": []
    },
    {
      "cell_type": "code",
      "source": [
        "import matplotlib.pyplot as plt\n",
        "from sklearn.inspection import permutation_importance\n",
        "# Display feature importances\n",
        "# Compute permutation feature importance\n",
        "perm_importance = permutation_importance(xgb, X_test, y_test, n_repeats=30, random_state=45322)\n",
        "feature_names = X.columns\n",
        "sorted_idx = perm_importance.importances_mean.argsort()\n",
        "plt.barh(feature_names[sorted_idx], perm_importance.importances_mean[sorted_idx])\n",
        "plt.xlabel(\"Permutation Feature Importance\")\n"
      ],
      "metadata": {
        "colab": {
          "base_uri": "https://localhost:8080/",
          "height": 467
        },
        "id": "EZggfKe_yeCv",
        "outputId": "3433e65e-f96f-4807-fb8e-8e057a3fee40"
      },
      "execution_count": 101,
      "outputs": [
        {
          "output_type": "execute_result",
          "data": {
            "text/plain": [
              "Text(0.5, 0, 'Permutation Feature Importance')"
            ]
          },
          "metadata": {},
          "execution_count": 101
        },
        {
          "output_type": "display_data",
          "data": {
            "text/plain": [
              "<Figure size 640x480 with 1 Axes>"
            ],
            "image/png": "[encoded data removed]"
          },
          "metadata": {}
        }
      ]
    },
    {
      "cell_type": "markdown",
      "source": [
        "this graph indicates feature importance, particularly seeing how it effects the prediction if it were to be randomly shuffled. A neagtive value indicates low importance and a positive value indicates high importance. Given that information we can see runs have a very low importance while CHits has a very high importance. It is also worth noting that Chits and hits, as well as CRuns and Runs are nearly on opposite sides of the spectrum."
      ],
      "metadata": {
        "id": "G4muLaQD3V8v"
      }
    }
  ]
}